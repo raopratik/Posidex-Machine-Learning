{
 "cells": [
  {
   "cell_type": "code",
   "execution_count": 1,
   "metadata": {},
   "outputs": [
    {
     "data": {
      "text/html": [
       "<h1>Imports</h1>"
      ],
      "text/plain": [
       "<IPython.core.display.HTML object>"
      ]
     },
     "metadata": {},
     "output_type": "display_data"
    }
   ],
   "source": []
  },
  {
   "cell_type": "code",
   "execution_count": 2,
   "metadata": {
    "collapsed": true
   },
   "outputs": [],
   "source": [
    "import pandas as pd\n",
    "import numpy as np\n",
    "import random as rnd\n",
    "\n",
    "# visualization\n",
    "#import seaborn as sns\n",
    "import matplotlib.pyplot as plt\n",
    "#%matplotlib inline\n",
    "\n",
    "# machine learning\n",
    "from sklearn.linear_model import LogisticRegression\n",
    "from sklearn.svm import SVC, LinearSVC\n",
    "from sklearn.ensemble import RandomForestClassifier\n",
    "from sklearn.neighbors import KNeighborsClassifier\n",
    "from sklearn.naive_bayes import GaussianNB\n",
    "from sklearn.linear_model import Perceptron\n",
    "from sklearn.linear_model import SGDClassifier\n",
    "from sklearn.tree import DecisionTreeClassifier"
   ]
  },
  {
   "cell_type": "code",
   "execution_count": 3,
   "metadata": {},
   "outputs": [
    {
     "data": {
      "text/html": [
       "<h1>Load Train File</h1>"
      ],
      "text/plain": [
       "<IPython.core.display.HTML object>"
      ]
     },
     "metadata": {},
     "output_type": "display_data"
    }
   ],
   "source": []
  },
  {
   "cell_type": "code",
   "execution_count": 4,
   "metadata": {},
   "outputs": [],
   "source": [
    "#train = pd.read_csv(\"Train File Name\")\n",
    "train = pd.read_csv(\"final.csv\")\n"
   ]
  },
  {
   "cell_type": "code",
   "execution_count": 5,
   "metadata": {},
   "outputs": [
    {
     "data": {
      "text/html": [
       "<h1>Load Test File</h1>"
      ],
      "text/plain": [
       "<IPython.core.display.HTML object>"
      ]
     },
     "metadata": {},
     "output_type": "display_data"
    }
   ],
   "source": []
  },
  {
   "cell_type": "code",
   "execution_count": 6,
   "metadata": {
    "collapsed": true
   },
   "outputs": [],
   "source": [
    "#test = pd.read_csv(\"Test File Name\")\n",
    "test = pd.read_csv(\"final2.csv\")\n"
   ]
  },
  {
   "cell_type": "code",
   "execution_count": 7,
   "metadata": {},
   "outputs": [
    {
     "data": {
      "text/html": [
       "<h1>Remove System Matches</h1>"
      ],
      "text/plain": [
       "<IPython.core.display.HTML object>"
      ]
     },
     "metadata": {},
     "output_type": "display_data"
    }
   ],
   "source": []
  },
  {
   "cell_type": "code",
   "execution_count": 8,
   "metadata": {},
   "outputs": [],
   "source": [
    "\n",
    "train=train[train['RIO_ACCEPT_REJECT']!='SM']\n",
    "test=test[test['RIO_ACCEPT_REJECT']!='SM']\n"
   ]
  },
  {
   "cell_type": "code",
   "execution_count": 9,
   "metadata": {},
   "outputs": [
    {
     "data": {
      "text/html": [
       "<h1>Set NM to 0 and M to 1</h1>"
      ],
      "text/plain": [
       "<IPython.core.display.HTML object>"
      ]
     },
     "metadata": {},
     "output_type": "display_data"
    }
   ],
   "source": []
  },
  {
   "cell_type": "code",
   "execution_count": 10,
   "metadata": {},
   "outputs": [],
   "source": [
    "train['RIO_ACCEPT_REJECT']= train['RIO_ACCEPT_REJECT'].map({'NM': 0, 'M' : 1})\n",
    "test['RIO_ACCEPT_REJECT']= test['RIO_ACCEPT_REJECT'].map({'NM': 0, 'M' : 1})"
   ]
  },
  {
   "cell_type": "code",
   "execution_count": 11,
   "metadata": {},
   "outputs": [
    {
     "data": {
      "text/html": [
       "<h1>Function to convert Match Type to Number</h1>"
      ],
      "text/plain": [
       "<IPython.core.display.HTML object>"
      ]
     },
     "metadata": {},
     "output_type": "display_data"
    }
   ],
   "source": []
  },
  {
   "cell_type": "code",
   "execution_count": 12,
   "metadata": {
    "collapsed": true
   },
   "outputs": [],
   "source": [
    "def counter(x):\n",
    "    c=0\n",
    "    y=x.split(',')\n",
    "    #print(x)\n",
    "    for i in y:\n",
    "        if(i!=' '):\n",
    "            c=c+1\n",
    "    return c"
   ]
  },
  {
   "cell_type": "code",
   "execution_count": 13,
   "metadata": {},
   "outputs": [
    {
     "data": {
      "text/html": [
       "<h1>Function to replace -1 with 0</h1>"
      ],
      "text/plain": [
       "<IPython.core.display.HTML object>"
      ]
     },
     "metadata": {},
     "output_type": "display_data"
    }
   ],
   "source": []
  },
  {
   "cell_type": "code",
   "execution_count": 14,
   "metadata": {
    "collapsed": true
   },
   "outputs": [],
   "source": [
    "def reduction(x):\n",
    "    if x==-1:\n",
    "        return 0\n",
    "    else:\n",
    "        return x"
   ]
  },
  {
   "cell_type": "code",
   "execution_count": 15,
   "metadata": {},
   "outputs": [
    {
     "data": {
      "text/html": [
       "<h1>Treshold Function</h1>"
      ],
      "text/plain": [
       "<IPython.core.display.HTML object>"
      ]
     },
     "metadata": {},
     "output_type": "display_data"
    }
   ],
   "source": []
  },
  {
   "cell_type": "code",
   "execution_count": 16,
   "metadata": {},
   "outputs": [],
   "source": [
    "\n",
    "\n",
    "\n",
    "\n",
    "def cut(prob,i):\n",
    "    return [1 if x >=i else 0 for x in prob]\n",
    "\n",
    "def testresults(prob,testx,testy,model_var,name):\n",
    "    Y_pred=model_var.predict(testx)\n",
    "    correct = [1 if ((a == 1 and b == 1) or (a == 0 and b == 0)) else 0 for (a, b) in zip(Y_pred,testy)]\n",
    "    print((sum(correct)/len(correct))*100)\n",
    "    tp = [1 if ((a == 1 and b == 1)) else 0 for (a, b) in zip(Y_pred,testy)]\n",
    "    fp = [1 if ((a == 1 and b == 0)) else 0 for (a, b) in zip(Y_pred,testy)]\n",
    "    fn= [1 if ((a == 0 and b == 1)) else 0 for (a, b) in zip(Y_pred,testy)]\n",
    "    tn= [1 if ((a == 0 and b == 0)) else 0 for (a, b) in zip(Y_pred,testy)]\n",
    "    tp=sum(tp)\n",
    "    fp=sum(fp)\n",
    "    fn=sum(fn)\n",
    "    tn=sum(tn)\n",
    "    print(\"Model:\"+str(model_var))\n",
    "    print(tp,fp,fn,tn)\n",
    "    P=(tp)/(tp+fp)\n",
    "    R=(tp)/(tp+fn)\n",
    "    print(\"Precision:\"+str(P*100),\"\\tRecall:\"+str(R*100))\n",
    "    F=2*P*R\n",
    "    F=F/(P+R)\n",
    "    print(\"F1 SCORE:\"+str(F*100))\n",
    "    \n",
    "    syn1=pd.DataFrame({\"MODEL\":name,\"PRECISION\":P*100,\"RECALL\":R*100,\"F1_SCORE\":F*100,\"POS\":(tp+fn),\"NEG\":(fp+tn),\"TP\":tp,\"FP\":fp,\"FN\":fn,\"TN\":tn},index=[0])\n",
    "    syn=syn1[['MODEL','POS','NEG','F1_SCORE','PRECISION','RECALL','TP','FP','FN','TN']]\n",
    "    return syn\n",
    "\n"
   ]
  },
  {
   "cell_type": "code",
   "execution_count": 17,
   "metadata": {},
   "outputs": [
    {
     "data": {
      "text/html": [
       "<h1>Transformation Functions</h1>"
      ],
      "text/plain": [
       "<IPython.core.display.HTML object>"
      ]
     },
     "metadata": {},
     "output_type": "display_data"
    }
   ],
   "source": []
  },
  {
   "cell_type": "code",
   "execution_count": 18,
   "metadata": {},
   "outputs": [],
   "source": [
    "train['MATCH_TYPE2']=train['MATCH_TYPE'].apply(counter)\n",
    "test['MATCH_TYPE2']=test['MATCH_TYPE'].apply(counter)\n",
    "train['COL1040STRENGTH']=train['COL1040STRENGTH'].apply(reduction)\n",
    "test['COL1040STRENGTH']=test['COL1040STRENGTH'].apply(reduction)\n",
    "train['COL1050STRENGTH']=train['COL1050STRENGTH'].apply(reduction)\n",
    "test['COL1050STRENGTH']=test['COL1050STRENGTH'].apply(reduction)\n",
    "train['COL2000STRENGTH']=train['COL2000STRENGTH'].apply(reduction)\n",
    "test['COL2000STRENGTH']=test['COL2000STRENGTH'].apply(reduction)\n",
    "train['COL1000LVL']=train['COL1000LVL'].apply(reduction)\n",
    "test['COL1000LVL']=test['COL1000LVL'].apply(reduction)\n",
    "train['ADDRMINLENSTRENGTH']=(train['ADDR1MINLENSTRENGTH']+train['ADDR2MINLENSTRENGTH']+train['ADDR3MINLENSTRENGTH'])/3\n",
    "test['ADDRMINLENSTRENGTH']=(test['ADDR1MINLENSTRENGTH']+test['ADDR2MINLENSTRENGTH']+test['ADDR3MINLENSTRENGTH'])/3\n",
    "train['ADDRMAXLENSTRENGTH']=(train['ADDR1MAXLENSTRENGTH']+train['ADDR2MAXLENSTRENGTH']+train['ADDR3MAXLENSTRENGTH'])/3\n",
    "test['ADDRMAXLENSTRENGTH']=(test['ADDR1MAXLENSTRENGTH']+test['ADDR2MAXLENSTRENGTH']+test['ADDR3MAXLENSTRENGTH'])/3\n",
    "train['ADDRESSMATCHSTRENGTH']=(test['ADDRESSMATCH1STRENGTH']+test['ADDRESSMATCH2STRENGTH']+test['ADDRESSMATCH3STRENGTH'])/3\n",
    "test['ADDRESSMATCHSTRENGTH']=(test['ADDRESSMATCH1STRENGTH']+test['ADDRESSMATCH2STRENGTH']+test['ADDRESSMATCH3STRENGTH'])/3\n",
    "\n",
    "train=train.dropna()\n",
    "test=test.dropna()"
   ]
  },
  {
   "cell_type": "code",
   "execution_count": null,
   "metadata": {},
   "outputs": [],
   "source": []
  },
  {
   "cell_type": "code",
   "execution_count": null,
   "metadata": {},
   "outputs": [],
   "source": []
  },
  {
   "cell_type": "code",
   "execution_count": 19,
   "metadata": {},
   "outputs": [
    {
     "data": {
      "text/html": [
       "<h1>Defining X(parameters) and Y (Please Enter the column names)</h1>"
      ],
      "text/plain": [
       "<IPython.core.display.HTML object>"
      ]
     },
     "metadata": {},
     "output_type": "display_data"
    }
   ],
   "source": []
  },
  {
   "cell_type": "code",
   "execution_count": 20,
   "metadata": {},
   "outputs": [
    {
     "data": {
      "text/plain": [
       "((42058, 18), (42058,))"
      ]
     },
     "execution_count": 20,
     "metadata": {},
     "output_type": "execute_result"
    }
   ],
   "source": [
    "X=train[['COL1050STRENGTH','COL5000STRENGTH','ADDRMAXLENSTRENGTH','SCALE_TYPE','ADDRMINLENSTRENGTH','ADDRESSMATCHSTRENGTH','COL4000STRENGTH','MATCH_TYPE2','COL2000STRENGTH','COL5040STRENGTH','COL1000STRENGTH'\n",
    ",'CS1STRENGTH','CS2STRENGTH','COL1000LVL','COL3000STRENGTH','COL5030STRENGTH','COL1040STRENGTH','CS3STRENGTH']]\n",
    "y=train['RIO_ACCEPT_REJECT']\n",
    "#y = y.reshape(len(train), 1)\n",
    "type(y)\n",
    "X.shape,y.shape"
   ]
  },
  {
   "cell_type": "code",
   "execution_count": 33,
   "metadata": {},
   "outputs": [
    {
     "data": {
      "text/html": [
       "<h1>Generating Synthetic Samples</h1>"
      ],
      "text/plain": [
       "<IPython.core.display.HTML object>"
      ]
     },
     "metadata": {},
     "output_type": "display_data"
    }
   ],
   "source": []
  },
  {
   "cell_type": "code",
   "execution_count": 21,
   "metadata": {},
   "outputs": [
    {
     "name": "stderr",
     "output_type": "stream",
     "text": [
      "C:\\Users\\Hp_Owner\\Anaconda3\\lib\\site-packages\\pandas\\core\\frame.py:2440: SettingWithCopyWarning: \n",
      "A value is trying to be set on a copy of a slice from a DataFrame.\n",
      "Try using .loc[row_indexer,col_indexer] = value instead\n",
      "\n",
      "See the caveats in the documentation: http://pandas.pydata.org/pandas-docs/stable/indexing.html#indexing-view-versus-copy\n",
      "  self[k1] = value[k2]\n",
      "C:\\Users\\Hp_Owner\\Anaconda3\\lib\\site-packages\\ipykernel\\__main__.py:15: SettingWithCopyWarning: \n",
      "A value is trying to be set on a copy of a slice from a DataFrame.\n",
      "Try using .loc[row_indexer,col_indexer] = value instead\n",
      "\n",
      "See the caveats in the documentation: http://pandas.pydata.org/pandas-docs/stable/indexing.html#indexing-view-versus-copy\n",
      "C:\\Users\\Hp_Owner\\Anaconda3\\lib\\site-packages\\ipykernel\\__main__.py:22: FutureWarning: reshape is deprecated and will raise in a subsequent release. Please use .values.reshape(...) instead\n"
     ]
    }
   ],
   "source": [
    "from imblearn.over_sampling import SMOTE\n",
    "\n",
    "sm=SMOTE(ratio='auto',kind=\"regular\")\n",
    "X_res, y_res = sm.fit_sample(X,y)\n",
    "xx=pd.DataFrame(X_res)\n",
    "yy=pd.DataFrame(y_res)\n",
    "\n"
   ]
  },
  {
   "cell_type": "code",
   "execution_count": 34,
   "metadata": {},
   "outputs": [
    {
     "data": {
      "text/html": [
       "<h1>Defining Parameters for Synthetic samples</h1>"
      ],
      "text/plain": [
       "<IPython.core.display.HTML object>"
      ]
     },
     "metadata": {},
     "output_type": "display_data"
    }
   ],
   "source": []
  },
  {
   "cell_type": "code",
   "execution_count": null,
   "metadata": {
    "collapsed": true
   },
   "outputs": [],
   "source": [
    "sm1=xx[yy[0]==1]\n",
    "sm1[['COL1050STRENGTH','COL5000STRENGTH','ADDRMAXLENSTRENGTH','SCALE_TYPE','ADDRMINLENSTRENGTH','ADDRESSMATCHSTRENGTH','COL4000STRENGTH','MATCH_TYPE2','COL2000STRENGTH','COL5040STRENGTH','COL1000STRENGTH'\n",
    ",'CS1STRENGTH','CS2STRENGTH','COL1000LVL','COL3000STRENGTH','COL5030STRENGTH','COL1040STRENGTH','CS3STRENGTH']]=xx[yy[0]==1]\n",
    "smfin=sm1[['COL1050STRENGTH','COL5000STRENGTH','ADDRMAXLENSTRENGTH','SCALE_TYPE','ADDRMINLENSTRENGTH','ADDRESSMATCHSTRENGTH','COL4000STRENGTH','MATCH_TYPE2','COL2000STRENGTH','COL5040STRENGTH','COL1000STRENGTH'\n",
    ",'CS1STRENGTH','CS2STRENGTH','COL1000LVL','COL3000STRENGTH','COL5030STRENGTH','COL1040STRENGTH','CS3STRENGTH']]\n",
    "\n",
    "smy=yy[yy[0]==1]\n",
    "smy['RIO_ACCEPT_REJECT']=smy\n",
    "smyfin=smy['RIO_ACCEPT_REJECT']\n",
    "\n",
    "framesx=[X,smfin[:30000]]\n",
    "framesy=[y,smyfin[:30000]]\n",
    "X=pd.concat(framesx)\n",
    "y=pd.concat(framesy)\n",
    "y = y.reshape(len(X), 1)"
   ]
  },
  {
   "cell_type": "code",
   "execution_count": 35,
   "metadata": {},
   "outputs": [
    {
     "data": {
      "text/html": [
       "<h1>Functions For Neural Network</h1>"
      ],
      "text/plain": [
       "<IPython.core.display.HTML object>"
      ]
     },
     "metadata": {},
     "output_type": "display_data"
    }
   ],
   "source": []
  },
  {
   "cell_type": "code",
   "execution_count": 22,
   "metadata": {},
   "outputs": [],
   "source": [
    "\n",
    "input_layer_size=X.shape[1]\n",
    "hidden_layer_size=6\n",
    "num_labels=2\n",
    "\n",
    "counter=0\n",
    "\n",
    "def sigmoid(z):  \n",
    "    return 1 / (1 + np.exp(-z))\n",
    "\n",
    "\n",
    "# In[45]:\n",
    "\n",
    "def sigmoidGradient(z):\n",
    "    g=np.matrix(np.zeros(z.shape))\n",
    "    g=np.multiply(sigmoid(z),(1-sigmoid(z)))\n",
    "    return g\n",
    "        \n",
    "    \n",
    "\n",
    "\n",
    "# In[46]:\n",
    "\n",
    "def forwardpropagate(X,theta1,theta2):\n",
    "\n",
    "   # theta1 = np.matrix(np.reshape(params[:hidden_layer_size * (input_layer_size + 1)], (hidden_layer_size, (input_layer_size + 1))))  \n",
    "    #theta2 = np.matrix(np.reshape(params[hidden_layer_size * (input_layer_size + 1):], (num_labels, (hidden_layer_size + 1))))\n",
    "    a1=np.matrix(np.insert(X,0,1,axis=1))\n",
    "    #print(\"a1:\\t\"+str(a1.shape))\n",
    "    z2=np.matmul(a1,theta1.T)\n",
    "    a2=sigmoid(z2)\n",
    "    a2=np.insert(a2,0,1,axis=1)\n",
    "    #print(\"a2:\\t\"+str(a2.shape))\n",
    "    z3=np.matmul(a2,theta2.T)\n",
    "    a3=sigmoid(z3)\n",
    "    return a3\n",
    "\n",
    "\n",
    "\n",
    "# In[47]:\n",
    "\n",
    "def nnCostRegGrad(params,input_layer_size,hidden_layer_size,num_labels,X,y,lam):\n",
    "    theta1 = np.matrix(np.reshape(params[:hidden_layer_size * (input_layer_size + 1)], (hidden_layer_size, (input_layer_size + 1))))  \n",
    "    theta2 = np.matrix(np.reshape(params[hidden_layer_size * (input_layer_size + 1):], (num_labels, (hidden_layer_size + 1))))\n",
    "    global counter\n",
    "    #print(theta1.shape)\n",
    "    #print(theta2.shape)\n",
    "    m=X.shape[0]\n",
    "    X=np.matrix(X)\n",
    "    a1=np.matrix(np.insert(X,0,1,axis=1))\n",
    "    #print(\"a1:\\t\"+str(a1.shape))\n",
    "    z2=np.matmul(a1,theta1.T)\n",
    "    a2=sigmoid(z2)\n",
    "    a2=np.insert(a2,0,1,axis=1)\n",
    "    #print(\"a2:\\t\"+str(a2.shape))\n",
    "    z3=np.matmul(a2,theta2.T)\n",
    "    a3=sigmoid(z3)\n",
    "  \n",
    "                       \n",
    "    y2=np.copy(y)        \n",
    "    \n",
    "    #print(\"y2:\\t\"+str(y2.shape))\n",
    "    y2=np.matrix(y2)  \n",
    "    a3=np.matrix(a3)\n",
    "    a2=np.matrix(a2)\n",
    "    a1=np.matrix(a1)\n",
    "    theta1=np.matrix(theta1)\n",
    "    theta2=np.matrix(theta2)\n",
    "    #print(y2)\n",
    "    M=np.multiply(-y2.T,np.log(a3))-np.multiply((1-y2.T),np.log(1-a3))\n",
    "    l=np.sum(np.sum(M))\n",
    "    J=l/m\n",
    "    \n",
    "    t1=np.power(theta1,2)\n",
    "    t2=np.power(theta2,2)\n",
    "    reg1=np.sum(np.sum(t1[:,2:theta1.shape[1]]))\n",
    "    reg2=np.sum(np.sum(t2[:,2:theta1.shape[1]]))\n",
    "    \n",
    "    reg=reg1+reg2\n",
    "    \n",
    "    finreg=(lam*reg)/(2*m)\n",
    "    J+=finreg\n",
    "    \n",
    "    \n",
    "    \n",
    "    #print(J)\n",
    "    yy=np.matrix(y2.T)\n",
    "    b=np.matrix(np.insert(X,0,1,axis=1))\n",
    "    findel1=np.matrix(np.zeros(theta1.shape))\n",
    "    findel2=np.matrix(np.zeros(theta2.shape))\n",
    "    #print(findel1.shape)\n",
    "    #print(findel2.shape)\n",
    "    percentage=100*(counter/250)\n",
    "    print(percentage)\n",
    "    counter=counter+1\n",
    "    for t in range(X.shape[0]):\n",
    "        aa1=np.matrix(b[t])\n",
    "        \n",
    "        zz2=np.matmul(aa1,theta1.T)\n",
    "        aa2=sigmoid(zz2)\n",
    "        aa2=np.insert(aa2,0,1,axis=1)\n",
    "        \n",
    "        #print(\"aa2:\\t\"+str(aa2.shape))\n",
    "        zz3=np.matmul(aa2,theta2.T)\n",
    "        aa3=sigmoid(zz3)\n",
    "        #print(aa3)\n",
    "        #print(yy[t].shape)\n",
    "        d3=aa3-yy[t]\n",
    "        #print(\"d3:\\t\"+str(d3.shape))\n",
    "        d2=np.multiply(np.matmul(d3,theta2),sigmoidGradient(np.insert(zz2,0,1)))\n",
    "        #print(\"d2:\\t\"+str(d2.shape))\n",
    "        #print(findel1.shape)\n",
    "        #print(\"d2 before:\\t\"+str(d2.shape))\n",
    "        d2=d2[:,1:]\n",
    "     #   print(\"d2:\\t\"+str(d2.shape))\n",
    "        findel1=findel1+np.matmul(d2.T,aa1)\n",
    "        #print(findel1)\n",
    "        findel2=findel2+np.matmul(d3.T,aa2)\n",
    "        #print(findel2)\n",
    "    Theta1_grad=np.matrix(np.zeros(theta1.shape))\n",
    "    Theta2_grad=np.matrix(np.zeros(theta2.shape))\n",
    "    Theta1_grad=findel1/m\n",
    "    Theta2_grad=findel2/m\n",
    "    \n",
    "    #print(Theta1_grad.shape,Theta2_grad.shape)\n",
    "    \n",
    "    Theta1_grad[:,1:Theta1_grad.shape[1]]=Theta1_grad[:,1:]+((lam*theta1[:,1:]))/m\n",
    "    Theta2_grad[:,1:Theta2_grad.shape[1]]=Theta2_grad[:,1:]+((lam*theta2[:,1:]))/m\n",
    "    \n",
    "    grad = np.concatenate((np.ravel(Theta1_grad), np.ravel(Theta2_grad)))\n",
    "    \n",
    "    return J,grad\n",
    "\n",
    "\n"
   ]
  },
  {
   "cell_type": "code",
   "execution_count": 23,
   "metadata": {},
   "outputs": [
    {
     "name": "stdout",
     "output_type": "stream",
     "text": [
      "0.0\n"
     ]
    },
    {
     "data": {
      "text/plain": [
       "array([[0],\n",
       "       [0],\n",
       "       [0],\n",
       "       ..., \n",
       "       [1],\n",
       "       [1],\n",
       "       [1]], dtype=int64)"
      ]
     },
     "execution_count": 23,
     "metadata": {},
     "output_type": "execute_result"
    }
   ],
   "source": [
    "y2=np.zeros((num_labels,X.shape[0]))\n",
    "\n",
    "    \n",
    "for i in range(0,X.shape[0]):\n",
    "    for j in range(0,num_labels):\n",
    "        if(y[i]==j):\n",
    "            y2[j][i]=1\n",
    "\n",
    "params = (np.random.random(size=hidden_layer_size * (input_layer_size + 1) + num_labels * (hidden_layer_size + 1)) - 0.5) * 0.25\n",
    "\n",
    "# unravel the parameter array into parameter matrices for each layer\n",
    "J,grad=nnCostRegGrad(params,input_layer_size,hidden_layer_size,num_labels,X,y2,lam=1)\n",
    "y\n",
    "\n",
    "\n",
    "# In[49]:\n",
    "\n"
   ]
  },
  {
   "cell_type": "code",
   "execution_count": 24,
   "metadata": {},
   "outputs": [
    {
     "name": "stdout",
     "output_type": "stream",
     "text": [
      "0.4\n",
      "0.8\n",
      "1.2\n",
      "1.6\n",
      "2.0\n",
      "2.4\n",
      "2.8000000000000003\n",
      "3.2\n",
      "3.5999999999999996\n",
      "4.0\n",
      "4.3999999999999995\n",
      "4.8\n",
      "5.2\n",
      "5.6000000000000005\n",
      "6.0\n",
      "6.4\n",
      "6.800000000000001\n",
      "7.199999999999999\n",
      "7.6\n",
      "8.0\n",
      "8.4\n",
      "8.799999999999999\n",
      "9.2\n",
      "9.6\n",
      "10.0\n",
      "10.4\n",
      "10.8\n",
      "11.200000000000001\n",
      "11.600000000000001\n",
      "12.0\n",
      "12.4\n",
      "12.8\n",
      "13.200000000000001\n",
      "13.600000000000001\n",
      "14.000000000000002\n",
      "14.399999999999999\n",
      "14.799999999999999\n",
      "15.2\n",
      "15.6\n",
      "16.0\n",
      "16.400000000000002\n",
      "16.8\n",
      "17.2\n",
      "17.599999999999998\n",
      "18.0\n",
      "18.4\n",
      "18.8\n",
      "19.2\n",
      "19.6\n",
      "20.0\n",
      "20.4\n",
      "20.8\n",
      "21.2\n",
      "21.6\n",
      "22.0\n",
      "22.400000000000002\n",
      "22.8\n",
      "23.200000000000003\n",
      "23.599999999999998\n",
      "24.0\n",
      "24.4\n",
      "24.8\n",
      "25.2\n",
      "25.6\n",
      "26.0\n",
      "26.400000000000002\n",
      "26.8\n",
      "27.200000000000003\n",
      "27.6\n",
      "28.000000000000004\n",
      "28.4\n",
      "28.799999999999997\n",
      "29.2\n",
      "29.599999999999998\n",
      "30.0\n",
      "30.4\n",
      "30.8\n",
      "31.2\n",
      "31.6\n",
      "32.0\n",
      "32.4\n",
      "32.800000000000004\n",
      "33.2\n",
      "33.6\n",
      "34.0\n",
      "34.4\n",
      "34.8\n",
      "35.199999999999996\n",
      "35.6\n",
      "36.0\n",
      "36.4\n",
      "36.8\n",
      "37.2\n",
      "37.6\n",
      "38.0\n",
      "38.4\n",
      "38.800000000000004\n",
      "39.2\n",
      "39.6\n",
      "40.0\n",
      "40.400000000000006\n",
      "40.8\n",
      "41.199999999999996\n",
      "41.6\n",
      "42.0\n",
      "42.4\n",
      "42.8\n",
      "43.2\n",
      "43.6\n",
      "44.0\n",
      "44.4\n",
      "44.800000000000004\n",
      "45.2\n",
      "45.6\n",
      "46.0\n",
      "46.400000000000006\n",
      "46.800000000000004\n",
      "47.199999999999996\n",
      "47.599999999999994\n",
      "48.0\n",
      "48.4\n",
      "48.8\n",
      "49.2\n",
      "49.6\n",
      "50.0\n"
     ]
    },
    {
     "name": "stderr",
     "output_type": "stream",
     "text": [
      "C:\\Users\\Hp_Owner\\Anaconda3\\lib\\site-packages\\ipykernel\\__main__.py:9: RuntimeWarning: overflow encountered in exp\n"
     ]
    },
    {
     "name": "stdout",
     "output_type": "stream",
     "text": [
      "50.4\n",
      "50.8\n",
      "51.2\n",
      "51.6\n",
      "52.0\n",
      "52.400000000000006\n",
      "52.800000000000004\n",
      "53.2\n",
      "53.6\n",
      "54.0\n",
      "54.400000000000006\n",
      "54.800000000000004\n",
      "55.2\n",
      "55.60000000000001\n",
      "56.00000000000001\n",
      "56.39999999999999\n",
      "56.8\n",
      "57.199999999999996\n",
      "57.599999999999994\n",
      "57.99999999999999\n",
      "58.4\n",
      "58.8\n",
      "59.199999999999996\n",
      "59.599999999999994\n",
      "60.0\n",
      "60.4\n",
      "60.8\n",
      "61.199999999999996\n",
      "61.6\n",
      "62.0\n",
      "62.4\n",
      "62.8\n",
      "63.2\n",
      "63.6\n",
      "64.0\n",
      "64.4\n",
      "64.8\n",
      "65.2\n",
      "65.60000000000001\n",
      "66.0\n",
      "66.4\n",
      "66.8\n",
      "67.2\n",
      "67.60000000000001\n",
      "68.0\n",
      "68.4\n",
      "68.8\n",
      "69.19999999999999\n",
      "69.6\n",
      "70.0\n",
      "70.39999999999999\n",
      "70.8\n",
      "71.2\n",
      "71.6\n",
      "72.0\n",
      "72.39999999999999\n",
      "72.8\n",
      "73.2\n",
      "73.6\n",
      "74.0\n",
      "74.4\n",
      "74.8\n",
      "75.2\n",
      "75.6\n",
      "76.0\n",
      "76.4\n",
      "76.8\n",
      "77.2\n",
      "77.60000000000001\n",
      "78.0\n",
      "78.4\n",
      "78.8\n",
      "79.2\n",
      "79.60000000000001\n",
      "80.0\n",
      "80.4\n",
      "80.80000000000001\n",
      "81.2\n",
      "81.6\n",
      "82.0\n",
      "82.39999999999999\n",
      "82.8\n",
      "83.2\n",
      "83.6\n",
      "84.0\n",
      "84.39999999999999\n",
      "84.8\n",
      "85.2\n",
      "85.6\n",
      "86.0\n",
      "86.4\n",
      "86.8\n",
      "87.2\n",
      "87.6\n",
      "88.0\n",
      "88.4\n",
      "88.8\n",
      "89.2\n",
      "89.60000000000001\n",
      "90.0\n",
      "90.4\n",
      "90.8\n",
      "91.2\n",
      "91.60000000000001\n",
      "92.0\n",
      "92.4\n",
      "92.80000000000001\n",
      "93.2\n",
      "93.60000000000001\n",
      "94.0\n",
      "94.39999999999999\n",
      "94.8\n",
      "95.19999999999999\n",
      "95.6\n",
      "96.0\n",
      "96.39999999999999\n",
      "96.8\n",
      "97.2\n",
      "97.6\n",
      "98.0\n",
      "98.4\n",
      "98.8\n",
      "99.2\n",
      "99.6\n",
      "100.0\n",
      "100.4\n",
      "accuracy = 79.05992395015127%\n"
     ]
    }
   ],
   "source": [
    "from scipy.optimize import minimize\n",
    "lam=1\n",
    "# minimize the objective function\n",
    "fmin = minimize(fun=nnCostRegGrad, x0=params, args=(input_layer_size, hidden_layer_size, num_labels, X, y2,lam),  \n",
    "                method='TNC', jac=True, options={'maxiter': 250})\n",
    "fmin\n",
    "\n",
    "\n",
    "# In[50]:\n",
    "\n",
    "X = np.matrix(X)  \n",
    "theta1 = np.matrix(np.reshape(fmin.x[:hidden_layer_size * (input_layer_size + 1)], (hidden_layer_size, (input_layer_size + 1))))  \n",
    "theta2 = np.matrix(np.reshape(fmin.x[hidden_layer_size * (input_layer_size + 1):], (num_labels, (hidden_layer_size + 1))))\n",
    "\n",
    "h = forwardpropagate(X,theta1,theta2)  \n",
    "y_pred = np.array(np.argmax(h, axis=1))  \n",
    "y,y_pred\n",
    "\n",
    "\n",
    "# In[51]:\n",
    "\n",
    "correct = [1 if a == b else 0 for (a, b) in zip(y_pred, y)]  \n",
    "accuracy = (sum(map(int, correct)) / float(len(correct)))  \n",
    "print ('accuracy = {0}%'.format(accuracy * 100))"
   ]
  },
  {
   "cell_type": "code",
   "execution_count": 25,
   "metadata": {},
   "outputs": [],
   "source": [
    "#data2=data2.dropna()\n",
    "#fnx2=np.array(data2[['COL5000STRENGTH','COL4000STRENGTH','MATCH_TYPE2','COL2000STRENGTH','COL5040STRENGTH','COL1000STRENGTH','CS1STRENGTH','CS2STRENGTH','COL1000LVL','COL3000STRENGTH','COL5030STRENGTH','CS3STRENGTH']])\n",
    "#testy=data2['RIO_ACCEPT_REJECT']\n",
    "#len(data2)"
   ]
  },
  {
   "cell_type": "code",
   "execution_count": 36,
   "metadata": {},
   "outputs": [
    {
     "data": {
      "text/html": [
       "<h1>Defining X(parameters) and Y (Please Enter the column names) for test</h1>"
      ],
      "text/plain": [
       "<IPython.core.display.HTML object>"
      ]
     },
     "metadata": {},
     "output_type": "display_data"
    }
   ],
   "source": []
  },
  {
   "cell_type": "code",
   "execution_count": 26,
   "metadata": {},
   "outputs": [],
   "source": [
    "test=test.dropna()\n",
    "fnx2=np.array(test[['COL1050STRENGTH','COL5000STRENGTH','ADDRMAXLENSTRENGTH','SCALE_TYPE','ADDRMINLENSTRENGTH','ADDRESSMATCHSTRENGTH','COL4000STRENGTH','MATCH_TYPE2','COL2000STRENGTH','COL5040STRENGTH','COL1000STRENGTH','CS1STRENGTH','CS2STRENGTH','COL1000LVL','COL3000STRENGTH','COL5030STRENGTH','COL1040STRENGTH','CS3STRENGTH']])\n",
    "testy=test['RIO_ACCEPT_REJECT']\n"
   ]
  },
  {
   "cell_type": "code",
   "execution_count": 27,
   "metadata": {},
   "outputs": [],
   "source": [
    "\n",
    "h2 = forwardpropagate(fnx2,theta1,theta2)  \n",
    "y_pred2 = np.array(np.argmax(h2, axis=1))  \n",
    "#y2,y_pred2\n"
   ]
  },
  {
   "cell_type": "code",
   "execution_count": 28,
   "metadata": {},
   "outputs": [],
   "source": [
    "fny2 = np.array(test['RIO_ACCEPT_REJECT'])"
   ]
  },
  {
   "cell_type": "code",
   "execution_count": 29,
   "metadata": {
    "collapsed": true
   },
   "outputs": [],
   "source": [
    "correct = [1 if ((a == 1 and b == 1) or (a == 0 and b == 0)) else 0 for (a, b) in zip(y_pred2,fny2)]"
   ]
  },
  {
   "cell_type": "code",
   "execution_count": 31,
   "metadata": {},
   "outputs": [
    {
     "data": {
      "text/plain": [
       "(0.36001101624896725, 0.23249857712009106, 0.797267626250305)"
      ]
     },
     "execution_count": 31,
     "metadata": {},
     "output_type": "execute_result"
    }
   ],
   "source": [
    "tp = [1 if ((a == 1 and b == 1)) else 0 for (a, b) in zip(y_pred2,fny2)]  \n",
    "fp = [1 if ((a == 1 and b == 0)) else 0 for (a, b) in zip(y_pred2,fny2)]  \n",
    "fn= [1 if ((a == 0 and b == 1)) else 0 for (a, b) in zip(y_pred2,fny2)]  \n",
    "sum(tp)\n",
    "tp=sum(tp)\n",
    "fp=sum(fp)\n",
    "fn=sum(fn)\n",
    "P=(tp)/(tp+fp)\n",
    "R=(tp)/(tp+fn)\n",
    "F=2*P*R\n",
    "F=F/(P+R)\n",
    "F,P,R"
   ]
  },
  {
   "cell_type": "code",
   "execution_count": 38,
   "metadata": {},
   "outputs": [
    {
     "data": {
      "text/html": [
       "<h1>Output File</h1>"
      ],
      "text/plain": [
       "<IPython.core.display.HTML object>"
      ]
     },
     "metadata": {},
     "output_type": "display_data"
    }
   ],
   "source": []
  },
  {
   "cell_type": "code",
   "execution_count": 39,
   "metadata": {},
   "outputs": [],
   "source": [
    "test['MODEL_PREDICTION']=y_pred2\n",
    "#Write the name of the output file\n",
    "test.to_csv(\"NeuralNetwork.csv\")"
   ]
  },
  {
   "cell_type": "code",
   "execution_count": null,
   "metadata": {},
   "outputs": [],
   "source": []
  },
  {
   "cell_type": "code",
   "execution_count": null,
   "metadata": {},
   "outputs": [],
   "source": []
  },
  {
   "cell_type": "code",
   "execution_count": null,
   "metadata": {},
   "outputs": [],
   "source": []
  },
  {
   "cell_type": "code",
   "execution_count": null,
   "metadata": {},
   "outputs": [],
   "source": []
  },
  {
   "cell_type": "code",
   "execution_count": null,
   "metadata": {},
   "outputs": [],
   "source": []
  },
  {
   "cell_type": "code",
   "execution_count": null,
   "metadata": {},
   "outputs": [],
   "source": []
  },
  {
   "cell_type": "code",
   "execution_count": null,
   "metadata": {},
   "outputs": [],
   "source": []
  },
  {
   "cell_type": "code",
   "execution_count": null,
   "metadata": {},
   "outputs": [],
   "source": []
  },
  {
   "cell_type": "code",
   "execution_count": null,
   "metadata": {},
   "outputs": [],
   "source": []
  },
  {
   "cell_type": "code",
   "execution_count": null,
   "metadata": {},
   "outputs": [],
   "source": []
  },
  {
   "cell_type": "code",
   "execution_count": null,
   "metadata": {},
   "outputs": [],
   "source": []
  },
  {
   "cell_type": "code",
   "execution_count": null,
   "metadata": {},
   "outputs": [],
   "source": []
  },
  {
   "cell_type": "code",
   "execution_count": null,
   "metadata": {},
   "outputs": [],
   "source": []
  },
  {
   "cell_type": "code",
   "execution_count": null,
   "metadata": {},
   "outputs": [],
   "source": []
  },
  {
   "cell_type": "code",
   "execution_count": null,
   "metadata": {},
   "outputs": [],
   "source": []
  },
  {
   "cell_type": "code",
   "execution_count": null,
   "metadata": {},
   "outputs": [],
   "source": []
  },
  {
   "cell_type": "code",
   "execution_count": null,
   "metadata": {},
   "outputs": [],
   "source": []
  },
  {
   "cell_type": "code",
   "execution_count": null,
   "metadata": {},
   "outputs": [],
   "source": []
  },
  {
   "cell_type": "code",
   "execution_count": null,
   "metadata": {},
   "outputs": [],
   "source": []
  },
  {
   "cell_type": "code",
   "execution_count": null,
   "metadata": {},
   "outputs": [],
   "source": []
  },
  {
   "cell_type": "code",
   "execution_count": null,
   "metadata": {},
   "outputs": [],
   "source": []
  },
  {
   "cell_type": "code",
   "execution_count": null,
   "metadata": {
    "scrolled": true
   },
   "outputs": [],
   "source": []
  },
  {
   "cell_type": "code",
   "execution_count": null,
   "metadata": {},
   "outputs": [],
   "source": []
  },
  {
   "cell_type": "code",
   "execution_count": null,
   "metadata": {},
   "outputs": [],
   "source": []
  },
  {
   "cell_type": "code",
   "execution_count": null,
   "metadata": {},
   "outputs": [],
   "source": []
  },
  {
   "cell_type": "code",
   "execution_count": null,
   "metadata": {},
   "outputs": [],
   "source": []
  },
  {
   "cell_type": "code",
   "execution_count": null,
   "metadata": {},
   "outputs": [],
   "source": []
  },
  {
   "cell_type": "code",
   "execution_count": null,
   "metadata": {},
   "outputs": [],
   "source": []
  },
  {
   "cell_type": "code",
   "execution_count": null,
   "metadata": {},
   "outputs": [],
   "source": []
  },
  {
   "cell_type": "code",
   "execution_count": null,
   "metadata": {},
   "outputs": [],
   "source": []
  },
  {
   "cell_type": "code",
   "execution_count": null,
   "metadata": {},
   "outputs": [],
   "source": []
  },
  {
   "cell_type": "code",
   "execution_count": null,
   "metadata": {},
   "outputs": [],
   "source": []
  },
  {
   "cell_type": "code",
   "execution_count": null,
   "metadata": {},
   "outputs": [],
   "source": []
  },
  {
   "cell_type": "code",
   "execution_count": null,
   "metadata": {
    "collapsed": true
   },
   "outputs": [],
   "source": []
  },
  {
   "cell_type": "code",
   "execution_count": null,
   "metadata": {},
   "outputs": [],
   "source": []
  },
  {
   "cell_type": "code",
   "execution_count": null,
   "metadata": {},
   "outputs": [],
   "source": []
  },
  {
   "cell_type": "code",
   "execution_count": null,
   "metadata": {},
   "outputs": [],
   "source": []
  },
  {
   "cell_type": "code",
   "execution_count": null,
   "metadata": {},
   "outputs": [],
   "source": []
  },
  {
   "cell_type": "code",
   "execution_count": null,
   "metadata": {},
   "outputs": [],
   "source": []
  },
  {
   "cell_type": "code",
   "execution_count": null,
   "metadata": {
    "collapsed": true
   },
   "outputs": [],
   "source": []
  }
 ],
 "metadata": {
  "kernelspec": {
   "display_name": "Python 3",
   "language": "python",
   "name": "python3"
  },
  "language_info": {
   "codemirror_mode": {
    "name": "ipython",
    "version": 3
   },
   "file_extension": ".py",
   "mimetype": "text/x-python",
   "name": "python",
   "nbconvert_exporter": "python",
   "pygments_lexer": "ipython3",
   "version": "3.6.3"
  }
 },
 "nbformat": 4,
 "nbformat_minor": 2
}
