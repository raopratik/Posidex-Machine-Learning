{
 "cells": [
  {
   "cell_type": "code",
   "execution_count": 1,
   "metadata": {
    "collapsed": false
   },
   "outputs": [
    {
     "data": {
      "text/html": [
       "<h1>Imports</h1>"
      ],
      "text/plain": [
       "<IPython.core.display.HTML object>"
      ]
     },
     "metadata": {},
     "output_type": "display_data"
    }
   ],
   "source": [
    "from IPython.core.display import display, HTML\n",
    "display(HTML('<h1>Imports</h1>'))"
   ]
  },
  {
   "cell_type": "code",
   "execution_count": 2,
   "metadata": {
    "collapsed": true
   },
   "outputs": [],
   "source": [
    "import pandas as pd\n",
    "import numpy as np\n",
    "import random as rnd\n",
    "\n",
    "# visualization\n",
    "import seaborn as sns\n",
    "import matplotlib.pyplot as plt\n",
    "%matplotlib inline\n",
    "\n",
    "# machine learning\n",
    "from sklearn.linear_model import LogisticRegression\n",
    "from sklearn.svm import SVC, LinearSVC\n",
    "from sklearn.ensemble import RandomForestClassifier\n",
    "from sklearn.neighbors import KNeighborsClassifier\n",
    "from sklearn.naive_bayes import GaussianNB\n",
    "from sklearn.linear_model import Perceptron\n",
    "from sklearn.linear_model import SGDClassifier\n",
    "from sklearn.tree import DecisionTreeClassifier"
   ]
  },
  {
   "cell_type": "code",
   "execution_count": 3,
   "metadata": {
    "collapsed": false
   },
   "outputs": [
    {
     "data": {
      "text/html": [
       "<h1>Load Train File</h1>"
      ],
      "text/plain": [
       "<IPython.core.display.HTML object>"
      ]
     },
     "metadata": {},
     "output_type": "display_data"
    }
   ],
   "source": [
    "display(HTML('<h1>Load Train File</h1>'))"
   ]
  },
  {
   "cell_type": "code",
   "execution_count": 4,
   "metadata": {
    "collapsed": false
   },
   "outputs": [],
   "source": [
    "#train = pd.read_csv(\"Train File Name\")\n",
    "train = pd.read_csv(\"final.csv\")\n"
   ]
  },
  {
   "cell_type": "code",
   "execution_count": 5,
   "metadata": {
    "collapsed": false
   },
   "outputs": [
    {
     "data": {
      "text/html": [
       "<h1>Load Test File</h1>"
      ],
      "text/plain": [
       "<IPython.core.display.HTML object>"
      ]
     },
     "metadata": {},
     "output_type": "display_data"
    }
   ],
   "source": [
    "display(HTML('<h1>Load Test File</h1>'))"
   ]
  },
  {
   "cell_type": "code",
   "execution_count": 6,
   "metadata": {
    "collapsed": true
   },
   "outputs": [],
   "source": [
    "#test = pd.read_csv(\"Test File Name\")\n",
    "test = pd.read_csv(\"final2.csv\")\n"
   ]
  },
  {
   "cell_type": "code",
   "execution_count": 7,
   "metadata": {
    "collapsed": false
   },
   "outputs": [
    {
     "data": {
      "text/html": [
       "<h1>Remove System Matches</h1>"
      ],
      "text/plain": [
       "<IPython.core.display.HTML object>"
      ]
     },
     "metadata": {},
     "output_type": "display_data"
    }
   ],
   "source": [
    "display(HTML('<h1>Remove System Matches</h1>'))"
   ]
  },
  {
   "cell_type": "code",
   "execution_count": 8,
   "metadata": {
    "collapsed": false
   },
   "outputs": [],
   "source": [
    "\n",
    "train=train[train['RIO_ACCEPT_REJECT']!='SM']\n",
    "test=test[test['RIO_ACCEPT_REJECT']!='SM']\n"
   ]
  },
  {
   "cell_type": "code",
   "execution_count": 9,
   "metadata": {
    "collapsed": false
   },
   "outputs": [
    {
     "data": {
      "text/html": [
       "<h1>Set NM to 0 and M to 1</h1>"
      ],
      "text/plain": [
       "<IPython.core.display.HTML object>"
      ]
     },
     "metadata": {},
     "output_type": "display_data"
    }
   ],
   "source": [
    "display(HTML('<h1>Set NM to 0 and M to 1</h1>'))"
   ]
  },
  {
   "cell_type": "code",
   "execution_count": 10,
   "metadata": {
    "collapsed": false
   },
   "outputs": [],
   "source": [
    "train['RIO_ACCEPT_REJECT']= train['RIO_ACCEPT_REJECT'].map({'NM': 0, 'M' : 1})\n",
    "test['RIO_ACCEPT_REJECT']= test['RIO_ACCEPT_REJECT'].map({'NM': 0, 'M' : 1})"
   ]
  },
  {
   "cell_type": "code",
   "execution_count": 11,
   "metadata": {
    "collapsed": false
   },
   "outputs": [
    {
     "data": {
      "text/html": [
       "<h1>Function to convert Match Type to Number</h1>"
      ],
      "text/plain": [
       "<IPython.core.display.HTML object>"
      ]
     },
     "metadata": {},
     "output_type": "display_data"
    }
   ],
   "source": [
    "display(HTML('<h1>Function to convert Match Type to Number</h1>'))"
   ]
  },
  {
   "cell_type": "code",
   "execution_count": 12,
   "metadata": {
    "collapsed": true
   },
   "outputs": [],
   "source": [
    "def counter(x):\n",
    "    c=0\n",
    "    y=x.split(',')\n",
    "    #print(x)\n",
    "    for i in y:\n",
    "        if(i!=' '):\n",
    "            c=c+1\n",
    "    return c"
   ]
  },
  {
   "cell_type": "code",
   "execution_count": 13,
   "metadata": {
    "collapsed": false
   },
   "outputs": [
    {
     "data": {
      "text/html": [
       "<h1>Function to replace -1 with 0</h1>"
      ],
      "text/plain": [
       "<IPython.core.display.HTML object>"
      ]
     },
     "metadata": {},
     "output_type": "display_data"
    }
   ],
   "source": [
    "display(HTML('<h1>Function to replace -1 with 0</h1>'))"
   ]
  },
  {
   "cell_type": "code",
   "execution_count": 14,
   "metadata": {
    "collapsed": true
   },
   "outputs": [],
   "source": [
    "def reduction(x):\n",
    "    if x==-1:\n",
    "        return 0\n",
    "    else:\n",
    "        return x"
   ]
  },
  {
   "cell_type": "code",
   "execution_count": 15,
   "metadata": {
    "collapsed": false
   },
   "outputs": [],
   "source": [
    "\n",
    "\n",
    "\n",
    "\n",
    "def cut(prob,i):\n",
    "    return [1 if x >=i else 0 for x in prob]\n",
    "\n",
    "def testresults(prob,testx,testy,model_var,name):\n",
    "    Y_pred=cut(pd.DataFrame(model_var.predict_proba(testx))[1],prob)\n",
    "    correct = [1 if ((a == 1 and b == 1) or (a == 0 and b == 0)) else 0 for (a, b) in zip(Y_pred,testy)]\n",
    "    print((sum(correct)/len(correct))*100)\n",
    "    tp = [1 if ((a == 1 and b == 1)) else 0 for (a, b) in zip(Y_pred,testy)]\n",
    "    fp = [1 if ((a == 1 and b == 0)) else 0 for (a, b) in zip(Y_pred,testy)]\n",
    "    fn= [1 if ((a == 0 and b == 1)) else 0 for (a, b) in zip(Y_pred,testy)]\n",
    "    tn= [1 if ((a == 0 and b == 0)) else 0 for (a, b) in zip(Y_pred,testy)]\n",
    "    tp=sum(tp)\n",
    "    fp=sum(fp)\n",
    "    fn=sum(fn)\n",
    "    tn=sum(tn)\n",
    "    print(\"Model:\"+str(model_var))\n",
    "    print(tp,fp,fn,tn)\n",
    "    P=(tp)/(tp+fp)\n",
    "    R=(tp)/(tp+fn)\n",
    "    print(\"Precision:\"+str(P*100),\"\\tRecall:\"+str(R*100))\n",
    "    F=2*P*R\n",
    "    F=F/(P+R)\n",
    "    print(\"F1 SCORE:\"+str(F*100))\n",
    "    \n",
    "    syn1=pd.DataFrame({\"MODEL\":name,\"PRECISION\":P*100,\"RECALL\":R*100,\"F1_SCORE\":F*100,\"POS\":(tp+fn),\"NEG\":(fp+tn),\"TP\":tp,\"FP\":fp,\"FN\":fn,\"TN\":tn},index=[0])\n",
    "    syn=syn1[['MODEL','POS','NEG','F1_SCORE','PRECISION','RECALL','TP','FP','FN','TN']]\n",
    "    return syn\n",
    "\n",
    "def adder(prob,testx,testy,model_var,syn,name):\n",
    "    \n",
    "    Y_pred=cut(pd.DataFrame(model_var.predict_proba(testx))[1],prob)\n",
    "    correct = [1 if ((a == 1 and b == 1) or (a == 0 and b == 0)) else 0 for (a, b) in zip(Y_pred,testy)]\n",
    "    print((sum(correct)/len(correct))*100)\n",
    "    tp = [1 if ((a == 1 and b == 1)) else 0 for (a, b) in zip(Y_pred,testy)]\n",
    "    fp = [1 if ((a == 1 and b == 0)) else 0 for (a, b) in zip(Y_pred,testy)]\n",
    "    fn= [1 if ((a == 0 and b == 1)) else 0 for (a, b) in zip(Y_pred,testy)]\n",
    "    tn= [1 if ((a == 0 and b == 0)) else 0 for (a, b) in zip(Y_pred,testy)]\n",
    "    tp=sum(tp)\n",
    "    fp=sum(fp)\n",
    "    fn=sum(fn)\n",
    "    tn=sum(tn)\n",
    "    print(\"Model:\"+str(model_var))\n",
    "    print(tp,fp,fn,tn)\n",
    "    P=(tp)/(tp+fp)\n",
    "    R=(tp)/(tp+fn)\n",
    "    print(\"Precision:\"+str(P*100),\"\\tRecall:\"+str(R*100))\n",
    "    F=2*P*R\n",
    "    F=F/(P+R)\n",
    "    print(\"F1 SCORE:\"+str(F*100))\n",
    "    df2 = pd.DataFrame({\"MODEL\":name,\"PRECISION\":P*100,\"RECALL\":R*100,\"F1_SCORE\":F*100,\"POS\":(tp+fn),\"NEG\":(fp+tn),\"TP\":tp,\"FP\":fp,\"FN\":fn,\"TN\":tn},index=[len(syn)])\n",
    "    df3=df2[['MODEL','POS','NEG','F1_SCORE','PRECISION','RECALL','TP','FP','FN','TN']]\n",
    "    syn=syn.append(df3)\n",
    "    print(len(syn))\n",
    "    return syn\n",
    "\n",
    "def adder2(prob,testx,testy,model_var,syn,name):\n",
    "    \n",
    "    Y_pred=model_var.predict(testx)\n",
    "    correct = [1 if ((a == 1 and b == 1) or (a == 0 and b == 0)) else 0 for (a, b) in zip(Y_pred,testy)]\n",
    "    print((sum(correct)/len(correct))*100)\n",
    "    tp = [1 if ((a == 1 and b == 1)) else 0 for (a, b) in zip(Y_pred,testy)]\n",
    "    fp = [1 if ((a == 1 and b == 0)) else 0 for (a, b) in zip(Y_pred,testy)]\n",
    "    fn= [1 if ((a == 0 and b == 1)) else 0 for (a, b) in zip(Y_pred,testy)]\n",
    "    tn= [1 if ((a == 0 and b == 0)) else 0 for (a, b) in zip(Y_pred,testy)]\n",
    "    tp=sum(tp)\n",
    "    fp=sum(fp)\n",
    "    fn=sum(fn)\n",
    "    tn=sum(tn)\n",
    "    print(\"Model:\"+str(model_var))\n",
    "    print(tp,fp,fn,tn)\n",
    "    P=(tp)/(tp+fp)\n",
    "    R=(tp)/(tp+fn)\n",
    "    print(\"Precision:\"+str(P*100),\"\\tRecall:\"+str(R*100))\n",
    "    F=2*P*R\n",
    "    F=F/(P+R)\n",
    "    print(\"F1 SCORE:\"+str(F*100))\n",
    "    df2 = pd.DataFrame({\"MODEL\":name,\"PRECISION\":P*100,\"RECALL\":R*100,\"F1_SCORE\":F*100,\"POS\":(tp+fn),\"NEG\":(fp+tn),\"TP\":tp,\"FP\":fp,\"FN\":fn,\"TN\":tn},index=[len(syn)])\n",
    "    df3=df2[['MODEL','POS','NEG','F1_SCORE','PRECISION','RECALL','TP','FP','FN','TN']]\n",
    "    syn=syn.append(df3)\n",
    "    print(len(syn))\n",
    "    return syn"
   ]
  },
  {
   "cell_type": "code",
   "execution_count": 16,
   "metadata": {
    "collapsed": false
   },
   "outputs": [
    {
     "data": {
      "text/html": [
       "<h1>Transformation Functions</h1>"
      ],
      "text/plain": [
       "<IPython.core.display.HTML object>"
      ]
     },
     "metadata": {},
     "output_type": "display_data"
    }
   ],
   "source": [
    "display(HTML('<h1>Transformation Functions</h1>'))"
   ]
  },
  {
   "cell_type": "code",
   "execution_count": 17,
   "metadata": {
    "collapsed": false
   },
   "outputs": [],
   "source": [
    "train['MATCH_TYPE2']=train['MATCH_TYPE'].apply(counter)\n",
    "test['MATCH_TYPE2']=test['MATCH_TYPE'].apply(counter)\n",
    "train['COL1040STRENGTH']=train['COL1040STRENGTH'].apply(reduction)\n",
    "test['COL1040STRENGTH']=test['COL1040STRENGTH'].apply(reduction)\n",
    "train['COL1050STRENGTH']=train['COL1050STRENGTH'].apply(reduction)\n",
    "test['COL1050STRENGTH']=test['COL1050STRENGTH'].apply(reduction)\n",
    "train['COL2000STRENGTH']=train['COL2000STRENGTH'].apply(reduction)\n",
    "test['COL2000STRENGTH']=test['COL2000STRENGTH'].apply(reduction)\n",
    "train['COL1000LVL']=train['COL1000LVL'].apply(reduction)\n",
    "test['COL1000LVL']=test['COL1000LVL'].apply(reduction)\n",
    "train['ADDRMINLENSTRENGTH']=(train['ADDR1MINLENSTRENGTH']+train['ADDR2MINLENSTRENGTH']+train['ADDR3MINLENSTRENGTH'])/3\n",
    "test['ADDRMINLENSTRENGTH']=(test['ADDR1MINLENSTRENGTH']+test['ADDR2MINLENSTRENGTH']+test['ADDR3MINLENSTRENGTH'])/3\n",
    "train['ADDRMAXLENSTRENGTH']=(train['ADDR1MAXLENSTRENGTH']+train['ADDR2MAXLENSTRENGTH']+train['ADDR3MAXLENSTRENGTH'])/3\n",
    "test['ADDRMAXLENSTRENGTH']=(test['ADDR1MAXLENSTRENGTH']+test['ADDR2MAXLENSTRENGTH']+test['ADDR3MAXLENSTRENGTH'])/3\n",
    "train['ADDRESSMATCHSTRENGTH']=(test['ADDRESSMATCH1STRENGTH']+test['ADDRESSMATCH2STRENGTH']+test['ADDRESSMATCH3STRENGTH'])/3\n",
    "test['ADDRESSMATCHSTRENGTH']=(test['ADDRESSMATCH1STRENGTH']+test['ADDRESSMATCH2STRENGTH']+test['ADDRESSMATCH3STRENGTH'])/3\n",
    "\n",
    "train=train.dropna()\n",
    "test=test.dropna()"
   ]
  },
  {
   "cell_type": "code",
   "execution_count": null,
   "metadata": {
    "collapsed": false
   },
   "outputs": [],
   "source": []
  },
  {
   "cell_type": "code",
   "execution_count": null,
   "metadata": {
    "collapsed": false
   },
   "outputs": [],
   "source": []
  },
  {
   "cell_type": "code",
   "execution_count": 18,
   "metadata": {
    "collapsed": false
   },
   "outputs": [
    {
     "data": {
      "text/html": [
       "<h1>Defining X(parameters) and Y </h1>"
      ],
      "text/plain": [
       "<IPython.core.display.HTML object>"
      ]
     },
     "metadata": {},
     "output_type": "display_data"
    }
   ],
   "source": [
    "display(HTML('<h1>Defining X(parameters) and Y </h1>'))"
   ]
  },
  {
   "cell_type": "code",
   "execution_count": 19,
   "metadata": {
    "collapsed": false
   },
   "outputs": [
    {
     "data": {
      "text/plain": [
       "(42058, 18)"
      ]
     },
     "execution_count": 19,
     "metadata": {},
     "output_type": "execute_result"
    }
   ],
   "source": [
    "trainx=train[['COL1050STRENGTH','COL5000STRENGTH','ADDRMAXLENSTRENGTH','SCALE_TYPE','ADDRMINLENSTRENGTH','ADDRESSMATCHSTRENGTH','COL4000STRENGTH','MATCH_TYPE2','COL2000STRENGTH','COL5040STRENGTH','COL1000STRENGTH'\n",
    ",'CS1STRENGTH','CS2STRENGTH','COL1000LVL','COL3000STRENGTH','COL5030STRENGTH','COL1040STRENGTH','CS3STRENGTH']]\n",
    "trainy=train['RIO_ACCEPT_REJECT']\n",
    "\n",
    "trainx.shape"
   ]
  },
  {
   "cell_type": "code",
   "execution_count": 20,
   "metadata": {
    "collapsed": false
   },
   "outputs": [
    {
     "data": {
      "text/html": [
       "<h1>Generating Synthetic Samples</h1>"
      ],
      "text/plain": [
       "<IPython.core.display.HTML object>"
      ]
     },
     "metadata": {},
     "output_type": "display_data"
    }
   ],
   "source": [
    "display(HTML('<h1>Generating Synthetic Samples</h1>'))"
   ]
  },
  {
   "cell_type": "code",
   "execution_count": 21,
   "metadata": {
    "collapsed": false
   },
   "outputs": [
    {
     "name": "stdout",
     "output_type": "stream",
     "text": [
      "38924\n"
     ]
    }
   ],
   "source": [
    "from imblearn.over_sampling import SMOTE\n",
    "\n",
    "sm=SMOTE(ratio='auto',kind=\"regular\")\n",
    "X_res, y_res = sm.fit_sample(trainx,trainy)\n",
    "x=pd.DataFrame(X_res)\n",
    "y=pd.DataFrame(y_res)\n",
    "print(len(y[y[0]==0]))\n",
    "sm1=x[y[0]==1]\n"
   ]
  },
  {
   "cell_type": "code",
   "execution_count": 22,
   "metadata": {
    "collapsed": false
   },
   "outputs": [
    {
     "data": {
      "text/html": [
       "<h1>Defining Parameters for Synthetic samples</h1>"
      ],
      "text/plain": [
       "<IPython.core.display.HTML object>"
      ]
     },
     "metadata": {},
     "output_type": "display_data"
    }
   ],
   "source": [
    "display(HTML('<h1>Defining Parameters for Synthetic samples</h1>'))"
   ]
  },
  {
   "cell_type": "code",
   "execution_count": 23,
   "metadata": {
    "collapsed": false
   },
   "outputs": [
    {
     "name": "stderr",
     "output_type": "stream",
     "text": [
      "C:\\Users\\Hp_Owner\\Anaconda3\\lib\\site-packages\\pandas\\core\\frame.py:2440: SettingWithCopyWarning: \n",
      "A value is trying to be set on a copy of a slice from a DataFrame.\n",
      "Try using .loc[row_indexer,col_indexer] = value instead\n",
      "\n",
      "See the caveats in the documentation: http://pandas.pydata.org/pandas-docs/stable/indexing.html#indexing-view-versus-copy\n",
      "  self[k1] = value[k2]\n",
      "C:\\Users\\Hp_Owner\\Anaconda3\\lib\\site-packages\\ipykernel\\__main__.py:7: SettingWithCopyWarning: \n",
      "A value is trying to be set on a copy of a slice from a DataFrame.\n",
      "Try using .loc[row_indexer,col_indexer] = value instead\n",
      "\n",
      "See the caveats in the documentation: http://pandas.pydata.org/pandas-docs/stable/indexing.html#indexing-view-versus-copy\n"
     ]
    }
   ],
   "source": [
    "sm1[['COL1050STRENGTH','COL5000STRENGTH','ADDRMAXLENSTRENGTH','SCALE_TYPE','ADDRMINLENSTRENGTH','ADDRESSMATCHSTRENGTH','COL4000STRENGTH','MATCH_TYPE2','COL2000STRENGTH','COL5040STRENGTH','COL1000STRENGTH'\n",
    ",'CS1STRENGTH','CS2STRENGTH','COL1000LVL','COL3000STRENGTH','COL5030STRENGTH','COL1040STRENGTH','CS3STRENGTH']]=x[y[0]==1]\n",
    "smfin=sm1[['COL1050STRENGTH','COL5000STRENGTH','ADDRMAXLENSTRENGTH','SCALE_TYPE','ADDRMINLENSTRENGTH','ADDRESSMATCHSTRENGTH','COL4000STRENGTH','MATCH_TYPE2','COL2000STRENGTH','COL5040STRENGTH','COL1000STRENGTH'\n",
    ",'CS1STRENGTH','CS2STRENGTH','COL1000LVL','COL3000STRENGTH','COL5030STRENGTH','COL1040STRENGTH','CS3STRENGTH']]\n",
    "\n",
    "smy=y[y[0]==1]\n",
    "smy['RIO_ACCEPT_REJECT']=smy\n",
    "smyfin=smy['RIO_ACCEPT_REJECT']\n",
    "\n",
    "framesx=[trainx,smfin[:20000]]\n",
    "framesy=[trainy,smyfin[:20000]]\n",
    "trainx=pd.concat(framesx)\n",
    "trainy=pd.concat(framesy)"
   ]
  },
  {
   "cell_type": "code",
   "execution_count": 24,
   "metadata": {
    "collapsed": false
   },
   "outputs": [
    {
     "data": {
      "text/html": [
       "<h1>Defining Parameters for Test samples</h1>"
      ],
      "text/plain": [
       "<IPython.core.display.HTML object>"
      ]
     },
     "metadata": {},
     "output_type": "display_data"
    }
   ],
   "source": [
    "display(HTML('<h1>Defining Parameters for Test samples</h1>'))"
   ]
  },
  {
   "cell_type": "code",
   "execution_count": 25,
   "metadata": {
    "collapsed": false
   },
   "outputs": [
    {
     "data": {
      "text/plain": [
       "(68845, 18)"
      ]
     },
     "execution_count": 25,
     "metadata": {},
     "output_type": "execute_result"
    }
   ],
   "source": [
    "test=test.dropna()\n",
    "testx=test[['COL1050STRENGTH','COL5000STRENGTH','ADDRMAXLENSTRENGTH','SCALE_TYPE','ADDRMINLENSTRENGTH','ADDRESSMATCHSTRENGTH','COL4000STRENGTH','MATCH_TYPE2','COL2000STRENGTH','COL5040STRENGTH','COL1000STRENGTH','CS1STRENGTH','CS2STRENGTH','COL1000LVL','COL3000STRENGTH','COL5030STRENGTH','COL1040STRENGTH','CS3STRENGTH']]\n",
    "testy=test['RIO_ACCEPT_REJECT']\n",
    "testx.shape"
   ]
  },
  {
   "cell_type": "code",
   "execution_count": 26,
   "metadata": {
    "collapsed": false
   },
   "outputs": [
    {
     "data": {
      "text/html": [
       "<h1>LOGISTIC REGRESSION</h1>"
      ],
      "text/plain": [
       "<IPython.core.display.HTML object>"
      ]
     },
     "metadata": {},
     "output_type": "display_data"
    }
   ],
   "source": [
    "display(HTML('<h1>LOGISTIC REGRESSION</h1>'))"
   ]
  },
  {
   "cell_type": "code",
   "execution_count": 27,
   "metadata": {
    "collapsed": false
   },
   "outputs": [
    {
     "data": {
      "text/plain": [
       "80.590000000000003"
      ]
     },
     "execution_count": 27,
     "metadata": {},
     "output_type": "execute_result"
    }
   ],
   "source": [
    "#LOGISTIC\n",
    "logreg = LogisticRegression()\n",
    "logreg.fit(trainx,trainy)\n",
    "Y_pred = logreg.predict(testx)\n",
    "acc_log = round(logreg.score(trainx,trainy) * 100, 2)\n",
    "acc_log"
   ]
  },
  {
   "cell_type": "code",
   "execution_count": 28,
   "metadata": {
    "collapsed": false
   },
   "outputs": [
    {
     "name": "stdout",
     "output_type": "stream",
     "text": [
      "34.71857070230227\n",
      "Model:LogisticRegression(C=1.0, class_weight=None, dual=False, fit_intercept=True,\n",
      "          intercept_scaling=1, max_iter=100, multi_class='ovr', n_jobs=1,\n",
      "          penalty='l2', random_state=None, solver='liblinear', tol=0.0001,\n",
      "          verbose=0, warm_start=False)\n",
      "4083 44927 16 19819\n",
      "Precision:8.330952866761885 \tRecall:99.6096608929007\n",
      "F1 SCORE:15.375924984465911\n"
     ]
    }
   ],
   "source": [
    "\n",
    "syn=testresults(.059,testx,testy,logreg,\"LOGISTIC_REGRESSION\")\n"
   ]
  },
  {
   "cell_type": "code",
   "execution_count": 29,
   "metadata": {
    "collapsed": false
   },
   "outputs": [
    {
     "data": {
      "text/html": [
       "<h1>SUPPORT VECTOR MACHINES</h1>"
      ],
      "text/plain": [
       "<IPython.core.display.HTML object>"
      ]
     },
     "metadata": {},
     "output_type": "display_data"
    }
   ],
   "source": [
    "display(HTML('<h1>SUPPORT VECTOR MACHINES</h1>'))"
   ]
  },
  {
   "cell_type": "code",
   "execution_count": 30,
   "metadata": {
    "collapsed": false
   },
   "outputs": [
    {
     "data": {
      "text/plain": [
       "64.150000000000006"
      ]
     },
     "execution_count": 30,
     "metadata": {},
     "output_type": "execute_result"
    }
   ],
   "source": [
    "svc =LinearSVC(C=100, loss='hinge', max_iter=1000)  \n",
    "        \n",
    "svc.fit(trainx, trainy) \n",
    "#svc = SVC()\n",
    "#svc.fit(trainx, trainy)\n",
    "\n",
    "acc_svc = round(svc.score(trainx, trainy) * 100, 2)\n",
    "acc_svc"
   ]
  },
  {
   "cell_type": "code",
   "execution_count": 31,
   "metadata": {
    "collapsed": false
   },
   "outputs": [
    {
     "name": "stdout",
     "output_type": "stream",
     "text": [
      "94.195656910451\n",
      "Model:LinearSVC(C=100, class_weight=None, dual=True, fit_intercept=True,\n",
      "     intercept_scaling=1, loss='hinge', max_iter=1000, multi_class='ovr',\n",
      "     penalty='l2', random_state=None, tol=0.0001, verbose=0)\n",
      "220 117 3879 64629\n",
      "Precision:65.28189910979229 \tRecall:5.367162722615272\n",
      "F1 SCORE:9.918845807033366\n",
      "2\n",
      "Wall time: 172 ms\n"
     ]
    }
   ],
   "source": [
    "%%time\n",
    "Y_pred = svc.predict(testx)\n",
    "syn=adder2(.001,testx,testy,svc,syn,'SUPPORT_VECTOR_MACHINES')\n"
   ]
  },
  {
   "cell_type": "code",
   "execution_count": 32,
   "metadata": {
    "collapsed": false
   },
   "outputs": [
    {
     "data": {
      "text/html": [
       "<h1>K NEIGHBOURS</h1>"
      ],
      "text/plain": [
       "<IPython.core.display.HTML object>"
      ]
     },
     "metadata": {},
     "output_type": "display_data"
    }
   ],
   "source": [
    "display(HTML('<h1>K NEIGHBOURS</h1>'))"
   ]
  },
  {
   "cell_type": "code",
   "execution_count": 33,
   "metadata": {
    "collapsed": false
   },
   "outputs": [
    {
     "data": {
      "text/plain": [
       "96.969999999999999"
      ]
     },
     "execution_count": 33,
     "metadata": {},
     "output_type": "execute_result"
    }
   ],
   "source": [
    "knn = KNeighborsClassifier(n_neighbors = 3)\n",
    "knn.fit(trainx, trainy)\n",
    "Y_pred = knn.predict(testx)\n",
    "acc_knn = round(knn.score(trainx, trainy) * 100, 2)\n",
    "acc_knn"
   ]
  },
  {
   "cell_type": "code",
   "execution_count": 34,
   "metadata": {
    "collapsed": false
   },
   "outputs": [
    {
     "name": "stdout",
     "output_type": "stream",
     "text": [
      "86.06434744716391\n",
      "Model:KNeighborsClassifier(algorithm='auto', leaf_size=30, metric='minkowski',\n",
      "           metric_params=None, n_jobs=1, n_neighbors=3, p=2,\n",
      "           weights='uniform')\n",
      "2936 8431 1163 56315\n",
      "Precision:25.82915457024721 \tRecall:71.62722615272018\n",
      "F1 SCORE:37.96715375662744\n",
      "3\n"
     ]
    }
   ],
   "source": [
    "syn=adder(.001,testx,testy,knn,syn,'K_NEIGHBOURS')\n"
   ]
  },
  {
   "cell_type": "code",
   "execution_count": 35,
   "metadata": {
    "collapsed": false
   },
   "outputs": [
    {
     "data": {
      "text/html": [
       "<h1>GAUSSIAN</h1>"
      ],
      "text/plain": [
       "<IPython.core.display.HTML object>"
      ]
     },
     "metadata": {},
     "output_type": "display_data"
    }
   ],
   "source": [
    "display(HTML('<h1>GAUSSIAN</h1>'))"
   ]
  },
  {
   "cell_type": "code",
   "execution_count": 36,
   "metadata": {
    "collapsed": false
   },
   "outputs": [
    {
     "data": {
      "text/plain": [
       "74.870000000000005"
      ]
     },
     "execution_count": 36,
     "metadata": {},
     "output_type": "execute_result"
    }
   ],
   "source": [
    "gaussian = GaussianNB()\n",
    "gaussian.fit(trainx, trainy)\n",
    "Y_pred = gaussian.predict(testx)\n",
    "acc_gaussian = round(gaussian.score(trainx, trainy) * 100, 2)\n",
    "acc_gaussian"
   ]
  },
  {
   "cell_type": "code",
   "execution_count": 37,
   "metadata": {
    "collapsed": false
   },
   "outputs": [
    {
     "name": "stdout",
     "output_type": "stream",
     "text": [
      "40.5635848645508\n",
      "Model:GaussianNB(priors=None)\n",
      "3856 40676 243 24070\n",
      "Precision:8.658941884487561 \tRecall:94.0717248109295\n",
      "F1 SCORE:15.858197446073492\n",
      "4\n"
     ]
    }
   ],
   "source": [
    "syn=adder(.01,testx,testy,gaussian,syn,'GAUSSIAN')\n"
   ]
  },
  {
   "cell_type": "code",
   "execution_count": 38,
   "metadata": {
    "collapsed": false
   },
   "outputs": [
    {
     "data": {
      "text/html": [
       "<h1>PERCEPTRON</h1>"
      ],
      "text/plain": [
       "<IPython.core.display.HTML object>"
      ]
     },
     "metadata": {},
     "output_type": "display_data"
    }
   ],
   "source": [
    "display(HTML('<h1>PERCEPTRON</h1>'))"
   ]
  },
  {
   "cell_type": "code",
   "execution_count": 39,
   "metadata": {
    "collapsed": false
   },
   "outputs": [
    {
     "data": {
      "text/plain": [
       "71.579999999999998"
      ]
     },
     "execution_count": 39,
     "metadata": {},
     "output_type": "execute_result"
    }
   ],
   "source": [
    "perceptron = Perceptron()\n",
    "perceptron.fit(trainx, trainy)\n",
    "Y_pred = perceptron.predict(testx)\n",
    "acc_perceptron = round(perceptron.score(trainx, trainy) * 100, 2)\n",
    "acc_perceptron"
   ]
  },
  {
   "cell_type": "code",
   "execution_count": 40,
   "metadata": {
    "collapsed": false
   },
   "outputs": [
    {
     "name": "stdout",
     "output_type": "stream",
     "text": [
      "93.64950250562859\n",
      "Model:Perceptron(alpha=0.0001, class_weight=None, eta0=1.0, fit_intercept=True,\n",
      "      n_iter=5, n_jobs=1, penalty=None, random_state=0, shuffle=True,\n",
      "      verbose=0, warm_start=False)\n",
      "1499 1772 2600 62974\n",
      "Precision:45.82696423112198 \tRecall:36.56989509636497\n",
      "F1 SCORE:40.678426051560386\n",
      "5\n"
     ]
    }
   ],
   "source": [
    "syn=adder2(.01,testx,testy,perceptron,syn,\"PERCEPTRON\")\n"
   ]
  },
  {
   "cell_type": "code",
   "execution_count": 41,
   "metadata": {
    "collapsed": false
   },
   "outputs": [
    {
     "data": {
      "text/html": [
       "<h1>SGD</h1>"
      ],
      "text/plain": [
       "<IPython.core.display.HTML object>"
      ]
     },
     "metadata": {},
     "output_type": "display_data"
    }
   ],
   "source": [
    "display(HTML('<h1>SGD</h1>'))"
   ]
  },
  {
   "cell_type": "code",
   "execution_count": 42,
   "metadata": {
    "collapsed": false
   },
   "outputs": [
    {
     "data": {
      "text/plain": [
       "77.099999999999994"
      ]
     },
     "execution_count": 42,
     "metadata": {},
     "output_type": "execute_result"
    }
   ],
   "source": [
    "sgd = SGDClassifier()\n",
    "sgd.fit(trainx, trainy)\n",
    "Y_pred = sgd.predict(testx)\n",
    "acc_sgd = round(sgd.score(trainx, trainy) * 100, 2)\n",
    "acc_sgd"
   ]
  },
  {
   "cell_type": "code",
   "execution_count": 43,
   "metadata": {
    "collapsed": false
   },
   "outputs": [
    {
     "name": "stdout",
     "output_type": "stream",
     "text": [
      "92.95083157818289\n",
      "Model:SGDClassifier(alpha=0.0001, average=False, class_weight=None, epsilon=0.1,\n",
      "       eta0=0.0, fit_intercept=True, l1_ratio=0.15,\n",
      "       learning_rate='optimal', loss='hinge', n_iter=5, n_jobs=1,\n",
      "       penalty='l2', power_t=0.5, random_state=None, shuffle=True,\n",
      "       verbose=0, warm_start=False)\n",
      "2143 2897 1956 61849\n",
      "Precision:42.519841269841265 \tRecall:52.28104415711149\n",
      "F1 SCORE:46.89791005580479\n",
      "6\n"
     ]
    }
   ],
   "source": [
    "syn=adder2(.01,testx,testy,sgd,syn,\"SGD\")"
   ]
  },
  {
   "cell_type": "code",
   "execution_count": 44,
   "metadata": {
    "collapsed": false
   },
   "outputs": [
    {
     "data": {
      "text/html": [
       "<h1>DECISION TREE</h1>"
      ],
      "text/plain": [
       "<IPython.core.display.HTML object>"
      ]
     },
     "metadata": {},
     "output_type": "display_data"
    }
   ],
   "source": [
    "display(HTML('<h1>DECISION TREE</h1>'))"
   ]
  },
  {
   "cell_type": "code",
   "execution_count": 45,
   "metadata": {
    "collapsed": false
   },
   "outputs": [
    {
     "data": {
      "text/plain": [
       "99.989999999999995"
      ]
     },
     "execution_count": 45,
     "metadata": {},
     "output_type": "execute_result"
    }
   ],
   "source": [
    "decision_tree = DecisionTreeClassifier()\n",
    "decision_tree.fit(trainx, trainy)\n",
    "Y_pred = decision_tree.predict(testx)\n",
    "acc_decision_tree = round(decision_tree.score(trainx, trainy) * 100, 2)\n",
    "acc_decision_tree"
   ]
  },
  {
   "cell_type": "code",
   "execution_count": 46,
   "metadata": {
    "collapsed": false
   },
   "outputs": [
    {
     "name": "stdout",
     "output_type": "stream",
     "text": [
      "91.53605926356308\n",
      "Model:DecisionTreeClassifier(class_weight=None, criterion='gini', max_depth=None,\n",
      "            max_features=None, max_leaf_nodes=None,\n",
      "            min_impurity_split=1e-07, min_samples_leaf=1,\n",
      "            min_samples_split=2, min_weight_fraction_leaf=0.0,\n",
      "            presort=False, random_state=None, splitter='best')\n",
      "2284 4012 1815 60734\n",
      "Precision:36.27700127064803 \tRecall:55.720907538424\n",
      "F1 SCORE:43.94420394420394\n",
      "7\n"
     ]
    }
   ],
   "source": [
    "syn=adder(.01,testx,testy,decision_tree,syn,'DECISION_TREE')\n"
   ]
  },
  {
   "cell_type": "code",
   "execution_count": 47,
   "metadata": {
    "collapsed": false
   },
   "outputs": [
    {
     "data": {
      "text/html": [
       "<h1>RANDOM FOREST</h1>"
      ],
      "text/plain": [
       "<IPython.core.display.HTML object>"
      ]
     },
     "metadata": {},
     "output_type": "display_data"
    }
   ],
   "source": [
    "display(HTML('<h1>RANDOM FOREST</h1>'))"
   ]
  },
  {
   "cell_type": "code",
   "execution_count": 48,
   "metadata": {
    "collapsed": false
   },
   "outputs": [
    {
     "data": {
      "text/plain": [
       "99.989999999999995"
      ]
     },
     "execution_count": 48,
     "metadata": {},
     "output_type": "execute_result"
    }
   ],
   "source": [
    "random_forest = RandomForestClassifier(n_estimators=100)\n",
    "random_forest.fit(trainx, trainy)\n",
    "Y_pred = random_forest.predict(testx)\n",
    "random_forest.score(trainx, trainy)\n",
    "acc_random_forest = round(random_forest.score(trainx, trainy) * 100, 2)\n",
    "acc_random_forest"
   ]
  },
  {
   "cell_type": "code",
   "execution_count": 49,
   "metadata": {
    "collapsed": false
   },
   "outputs": [
    {
     "name": "stdout",
     "output_type": "stream",
     "text": [
      "44.33146924250127\n",
      "Model:RandomForestClassifier(bootstrap=True, class_weight=None, criterion='gini',\n",
      "            max_depth=None, max_features='auto', max_leaf_nodes=None,\n",
      "            min_impurity_split=1e-07, min_samples_leaf=1,\n",
      "            min_samples_split=2, min_weight_fraction_leaf=0.0,\n",
      "            n_estimators=100, n_jobs=1, oob_score=False, random_state=None,\n",
      "            verbose=0, warm_start=False)\n",
      "4044 38270 55 26476\n",
      "Precision:9.557120574750673 \tRecall:98.65820931934618\n",
      "F1 SCORE:17.426152155646047\n",
      "8\n"
     ]
    }
   ],
   "source": [
    "random_forest\n",
    "syn=adder(.01,testx,testy,random_forest,syn,'RANDOM_FOREST')\n"
   ]
  },
  {
   "cell_type": "code",
   "execution_count": 50,
   "metadata": {
    "collapsed": false,
    "scrolled": true
   },
   "outputs": [
    {
     "data": {
      "text/html": [
       "<div>\n",
       "<table border=\"1\" class=\"dataframe\">\n",
       "  <thead>\n",
       "    <tr style=\"text-align: right;\">\n",
       "      <th></th>\n",
       "      <th>MODEL</th>\n",
       "      <th>POS</th>\n",
       "      <th>NEG</th>\n",
       "      <th>F1_SCORE</th>\n",
       "      <th>PRECISION</th>\n",
       "      <th>RECALL</th>\n",
       "      <th>TP</th>\n",
       "      <th>FP</th>\n",
       "      <th>FN</th>\n",
       "      <th>TN</th>\n",
       "    </tr>\n",
       "  </thead>\n",
       "  <tbody>\n",
       "    <tr>\n",
       "      <th>0</th>\n",
       "      <td>LOGISTIC_REGRESSION</td>\n",
       "      <td>4099</td>\n",
       "      <td>64746</td>\n",
       "      <td>15.375925</td>\n",
       "      <td>8.330953</td>\n",
       "      <td>99.609661</td>\n",
       "      <td>4083</td>\n",
       "      <td>44927</td>\n",
       "      <td>16</td>\n",
       "      <td>19819</td>\n",
       "    </tr>\n",
       "    <tr>\n",
       "      <th>1</th>\n",
       "      <td>SUPPORT_VECTOR_MACHINES</td>\n",
       "      <td>4099</td>\n",
       "      <td>64746</td>\n",
       "      <td>9.918846</td>\n",
       "      <td>65.281899</td>\n",
       "      <td>5.367163</td>\n",
       "      <td>220</td>\n",
       "      <td>117</td>\n",
       "      <td>3879</td>\n",
       "      <td>64629</td>\n",
       "    </tr>\n",
       "    <tr>\n",
       "      <th>2</th>\n",
       "      <td>K_NEIGHBOURS</td>\n",
       "      <td>4099</td>\n",
       "      <td>64746</td>\n",
       "      <td>37.967154</td>\n",
       "      <td>25.829155</td>\n",
       "      <td>71.627226</td>\n",
       "      <td>2936</td>\n",
       "      <td>8431</td>\n",
       "      <td>1163</td>\n",
       "      <td>56315</td>\n",
       "    </tr>\n",
       "    <tr>\n",
       "      <th>3</th>\n",
       "      <td>GAUSSIAN</td>\n",
       "      <td>4099</td>\n",
       "      <td>64746</td>\n",
       "      <td>15.858197</td>\n",
       "      <td>8.658942</td>\n",
       "      <td>94.071725</td>\n",
       "      <td>3856</td>\n",
       "      <td>40676</td>\n",
       "      <td>243</td>\n",
       "      <td>24070</td>\n",
       "    </tr>\n",
       "    <tr>\n",
       "      <th>4</th>\n",
       "      <td>PERCEPTRON</td>\n",
       "      <td>4099</td>\n",
       "      <td>64746</td>\n",
       "      <td>40.678426</td>\n",
       "      <td>45.826964</td>\n",
       "      <td>36.569895</td>\n",
       "      <td>1499</td>\n",
       "      <td>1772</td>\n",
       "      <td>2600</td>\n",
       "      <td>62974</td>\n",
       "    </tr>\n",
       "    <tr>\n",
       "      <th>5</th>\n",
       "      <td>SGD</td>\n",
       "      <td>4099</td>\n",
       "      <td>64746</td>\n",
       "      <td>46.897910</td>\n",
       "      <td>42.519841</td>\n",
       "      <td>52.281044</td>\n",
       "      <td>2143</td>\n",
       "      <td>2897</td>\n",
       "      <td>1956</td>\n",
       "      <td>61849</td>\n",
       "    </tr>\n",
       "    <tr>\n",
       "      <th>6</th>\n",
       "      <td>DECISION_TREE</td>\n",
       "      <td>4099</td>\n",
       "      <td>64746</td>\n",
       "      <td>43.944204</td>\n",
       "      <td>36.277001</td>\n",
       "      <td>55.720908</td>\n",
       "      <td>2284</td>\n",
       "      <td>4012</td>\n",
       "      <td>1815</td>\n",
       "      <td>60734</td>\n",
       "    </tr>\n",
       "    <tr>\n",
       "      <th>7</th>\n",
       "      <td>RANDOM_FOREST</td>\n",
       "      <td>4099</td>\n",
       "      <td>64746</td>\n",
       "      <td>17.426152</td>\n",
       "      <td>9.557121</td>\n",
       "      <td>98.658209</td>\n",
       "      <td>4044</td>\n",
       "      <td>38270</td>\n",
       "      <td>55</td>\n",
       "      <td>26476</td>\n",
       "    </tr>\n",
       "  </tbody>\n",
       "</table>\n",
       "</div>"
      ],
      "text/plain": [
       "                     MODEL   POS    NEG   F1_SCORE  PRECISION     RECALL  \\\n",
       "0      LOGISTIC_REGRESSION  4099  64746  15.375925   8.330953  99.609661   \n",
       "1  SUPPORT_VECTOR_MACHINES  4099  64746   9.918846  65.281899   5.367163   \n",
       "2             K_NEIGHBOURS  4099  64746  37.967154  25.829155  71.627226   \n",
       "3                 GAUSSIAN  4099  64746  15.858197   8.658942  94.071725   \n",
       "4               PERCEPTRON  4099  64746  40.678426  45.826964  36.569895   \n",
       "5                      SGD  4099  64746  46.897910  42.519841  52.281044   \n",
       "6            DECISION_TREE  4099  64746  43.944204  36.277001  55.720908   \n",
       "7            RANDOM_FOREST  4099  64746  17.426152   9.557121  98.658209   \n",
       "\n",
       "     TP     FP    FN     TN  \n",
       "0  4083  44927    16  19819  \n",
       "1   220    117  3879  64629  \n",
       "2  2936   8431  1163  56315  \n",
       "3  3856  40676   243  24070  \n",
       "4  1499   1772  2600  62974  \n",
       "5  2143   2897  1956  61849  \n",
       "6  2284   4012  1815  60734  \n",
       "7  4044  38270    55  26476  "
      ]
     },
     "execution_count": 50,
     "metadata": {},
     "output_type": "execute_result"
    }
   ],
   "source": [
    "syn"
   ]
  },
  {
   "cell_type": "code",
   "execution_count": null,
   "metadata": {
    "collapsed": false
   },
   "outputs": [],
   "source": []
  },
  {
   "cell_type": "code",
   "execution_count": null,
   "metadata": {
    "collapsed": false
   },
   "outputs": [],
   "source": []
  },
  {
   "cell_type": "code",
   "execution_count": null,
   "metadata": {
    "collapsed": false
   },
   "outputs": [],
   "source": []
  },
  {
   "cell_type": "code",
   "execution_count": null,
   "metadata": {
    "collapsed": false
   },
   "outputs": [],
   "source": []
  },
  {
   "cell_type": "code",
   "execution_count": null,
   "metadata": {
    "collapsed": false
   },
   "outputs": [],
   "source": []
  },
  {
   "cell_type": "code",
   "execution_count": null,
   "metadata": {
    "collapsed": false
   },
   "outputs": [],
   "source": []
  },
  {
   "cell_type": "code",
   "execution_count": null,
   "metadata": {
    "collapsed": false
   },
   "outputs": [],
   "source": []
  },
  {
   "cell_type": "code",
   "execution_count": null,
   "metadata": {
    "collapsed": false
   },
   "outputs": [],
   "source": []
  },
  {
   "cell_type": "code",
   "execution_count": null,
   "metadata": {
    "collapsed": false
   },
   "outputs": [],
   "source": []
  },
  {
   "cell_type": "code",
   "execution_count": null,
   "metadata": {
    "collapsed": false
   },
   "outputs": [],
   "source": []
  },
  {
   "cell_type": "code",
   "execution_count": null,
   "metadata": {
    "collapsed": false
   },
   "outputs": [],
   "source": []
  },
  {
   "cell_type": "code",
   "execution_count": null,
   "metadata": {
    "collapsed": true
   },
   "outputs": [],
   "source": []
  },
  {
   "cell_type": "code",
   "execution_count": null,
   "metadata": {
    "collapsed": false
   },
   "outputs": [],
   "source": []
  },
  {
   "cell_type": "code",
   "execution_count": null,
   "metadata": {
    "collapsed": false
   },
   "outputs": [],
   "source": []
  },
  {
   "cell_type": "code",
   "execution_count": null,
   "metadata": {
    "collapsed": false
   },
   "outputs": [],
   "source": []
  },
  {
   "cell_type": "code",
   "execution_count": null,
   "metadata": {
    "collapsed": false
   },
   "outputs": [],
   "source": []
  },
  {
   "cell_type": "code",
   "execution_count": null,
   "metadata": {
    "collapsed": false
   },
   "outputs": [],
   "source": []
  },
  {
   "cell_type": "code",
   "execution_count": null,
   "metadata": {
    "collapsed": true
   },
   "outputs": [],
   "source": []
  }
 ],
 "metadata": {
  "kernelspec": {
   "display_name": "Python 3",
   "language": "python",
   "name": "python3"
  },
  "language_info": {
   "codemirror_mode": {
    "name": "ipython",
    "version": 3
   },
   "file_extension": ".py",
   "mimetype": "text/x-python",
   "name": "python",
   "nbconvert_exporter": "python",
   "pygments_lexer": "ipython3",
   "version": "3.6.0"
  }
 },
 "nbformat": 4,
 "nbformat_minor": 2
}
